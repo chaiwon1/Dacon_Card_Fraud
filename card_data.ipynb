{
 "cells": [
  {
   "cell_type": "markdown",
   "metadata": {},
   "source": [
    "<h2>데이터 탐색</h2>"
   ]
  },
  {
   "cell_type": "code",
   "execution_count": 1,
   "metadata": {},
   "outputs": [],
   "source": [
    "import pandas as pd\n",
    "import numpy as np\n",
    "\n",
    "from sklearn.metrics import classification_report\n",
    "from sklearn.metrics import make_scorer, f1_score\n",
    "from sklearn import model_selection\n",
    "\n",
    "from sklearn.ensemble import IsolationForest\n",
    "from sklearn.cluster import KMeans\n",
    "from sklearn.cluster import MeanShift\n",
    "from sklearn.mixture import GaussianMixture\n",
    "from sklearn.cluster import DBSCAN\n",
    "from sklearn.svm import OneClassSVM\n",
    "from sklearn.covariance import EllipticEnvelope\n",
    "from sklearn.neighbors import LocalOutlierFactor"
   ]
  },
  {
   "cell_type": "code",
   "execution_count": null,
   "metadata": {},
   "outputs": [],
   "source": [
    "# submit csv 만드는 코드\n",
    "submit = pd.read_csv('sample_submission.csv')\n",
    "submit['Class'] = y_pred\n",
    "submit.to_csv('submit.csv', index=False)"
   ]
  },
  {
   "cell_type": "code",
   "execution_count": 2,
   "metadata": {},
   "outputs": [
    {
     "data": {
      "text/plain": [
       "((113842, 31), (28462, 32), (142503, 31))"
      ]
     },
     "execution_count": 2,
     "metadata": {},
     "output_type": "execute_result"
    }
   ],
   "source": [
    "# 데이터 load \n",
    "train = pd.read_csv('train.csv')\n",
    "val = pd.read_csv('val.csv')\n",
    "test = pd.read_csv('test.csv')\n",
    "\n",
    "# shape 확인\n",
    "train.shape, val.shape, test.shape"
   ]
  },
  {
   "cell_type": "code",
   "execution_count": 3,
   "metadata": {},
   "outputs": [
    {
     "name": "stdout",
     "output_type": "stream",
     "text": [
      "정상 데이터 : 28432, 사기 데이터 : 30\n",
      "검증 데이터의 사기 비율 : [0.0010551491277433877]\n"
     ]
    }
   ],
   "source": [
    "# 검증 데이터를 통해 타겟 비율 확인\n",
    "val_normal, val_fraud = val['Class'].value_counts()\n",
    "val_contamination = val_fraud / val_normal\n",
    "print(f'정상 데이터 : {val_normal}, 사기 데이터 : {val_fraud}')\n",
    "print(f'검증 데이터의 사기 비율 : [{val_contamination}]')"
   ]
  },
  {
   "cell_type": "code",
   "execution_count": 4,
   "metadata": {},
   "outputs": [
    {
     "data": {
      "text/plain": [
       "((113842, 30), (28462, 30), (28462,), (142503, 30))"
      ]
     },
     "execution_count": 4,
     "metadata": {},
     "output_type": "execute_result"
    }
   ],
   "source": [
    "# 데이터 셋 정리\n",
    "X_train = train.drop('ID', axis=1)\n",
    "\n",
    "X_val = val.drop(['ID', 'Class'], axis=1)\n",
    "y_val = val['Class']\n",
    "\n",
    "X_test = test.drop('ID', axis=1)\n",
    "\n",
    "# shape 확인\n",
    "X_train.shape, X_val.shape, y_val.shape, X_test.shape"
   ]
  },
  {
   "cell_type": "markdown",
   "metadata": {},
   "source": [
    "<h2>IsolationForest(Base Code 참조)</h2>"
   ]
  },
  {
   "cell_type": "code",
   "execution_count": 6,
   "metadata": {},
   "outputs": [],
   "source": [
    "# 모델 출력값 변환 (1:정상, -1:불량(사기)) 이므로 (0:정상, 1:불량(사기))로 Label 변환\n",
    "def get_pred_label(model_pred):\n",
    "    model_pred = np.where(model_pred == 1, 0, model_pred)\n",
    "    model_pred = np.where(model_pred == -1, 1, model_pred)\n",
    "    return model_pred"
   ]
  },
  {
   "cell_type": "code",
   "execution_count": 48,
   "metadata": {},
   "outputs": [
    {
     "name": "stderr",
     "output_type": "stream",
     "text": [
      "c:\\ProgramData\\Anaconda3\\envs\\card\\lib\\site-packages\\sklearn\\base.py:450: UserWarning: X does not have valid feature names, but IsolationForest was fitted with feature names\n",
      "  warnings.warn(\n"
     ]
    },
    {
     "name": "stdout",
     "output_type": "stream",
     "text": [
      "클래스 : [0 1], 클래스별 개수 : [28435    27]\n",
      "정상 데이터 : 28435, 사기 데이터 : 27\n",
      "검증 데이터의 사기 비율 : [0.0009495340249692281]\n",
      "              precision    recall  f1-score   support\n",
      "\n",
      "           0       1.00      1.00      1.00     28432\n",
      "           1       0.37      0.33      0.35        30\n",
      "\n",
      "    accuracy                           1.00     28462\n",
      "   macro avg       0.68      0.67      0.68     28462\n",
      "weighted avg       1.00      1.00      1.00     28462\n",
      "\n"
     ]
    }
   ],
   "source": [
    "# 모델 학습\n",
    "IF = IsolationForest(contamination=val_contamination, random_state=42)\n",
    "IF.fit(X_train)\n",
    "IF_val_pred = IF.predict(X_val)\n",
    "IF_val_pred = get_pred_label(IF_val_pred)\n",
    "\n",
    "# 모델 결과 확인\n",
    "unique, counts = np.unique(IF_val_pred, return_counts=True)\n",
    "IF_contamination = counts[1] / counts[0]\n",
    "print(f'클래스 : {unique}, 클래스별 개수 : {counts}')\n",
    "print(f'정상 데이터 : {counts[0]}, 사기 데이터 : {counts[1]}')\n",
    "print(f'검증 데이터의 사기 비율 : [{IF_contamination}]')\n",
    "\n",
    "print(classification_report(y_val, IF_val_pred))"
   ]
  },
  {
   "cell_type": "code",
   "execution_count": null,
   "metadata": {},
   "outputs": [],
   "source": [
    "# GridSearchCV를 통한 최적의 파라미터 조정\n",
    "param_grid = {'n_estimators': list(range(100, 500, 10)), \n",
    "              'max_samples': list(range(100, 500, 10)), \n",
    "              'contamination': [0.0001, 0.001, 0.002, 0.005], \n",
    "              'max_features': [1, 5, 10, 15], \n",
    "              'bootstrap': [True, False]\n",
    "             }\n",
    "\n",
    "f1sc = make_scorer(f1_score, average='micro')\n",
    "\n",
    "grid_dt_estimator = model_selection.GridSearchCV(IF, \n",
    "                                                 param_grid,\n",
    "                                                 scoring=f1sc, \n",
    "                                                 refit=True,\n",
    "                                                 cv=5, \n",
    "                                                 return_train_score=True)\n",
    "grid_dt_estimator.fit(X_val, y_val)"
   ]
  },
  {
   "cell_type": "markdown",
   "metadata": {},
   "source": [
    "<h2>K-Means</h2>"
   ]
  },
  {
   "cell_type": "code",
   "execution_count": 49,
   "metadata": {},
   "outputs": [
    {
     "name": "stdout",
     "output_type": "stream",
     "text": [
      "클래스 : [0 1], 클래스별 개수 : [27911   551]\n",
      "정상 데이터 : 27911, 사기 데이터 : 551\n",
      "검증 데이터의 사기 비율 : [0.019741320626276378]\n",
      "              precision    recall  f1-score   support\n",
      "\n",
      "           0       1.00      0.98      0.99     28432\n",
      "           1       0.00      0.00      0.00        30\n",
      "\n",
      "    accuracy                           0.98     28462\n",
      "   macro avg       0.50      0.49      0.49     28462\n",
      "weighted avg       1.00      0.98      0.99     28462\n",
      "\n"
     ]
    }
   ],
   "source": [
    "# 모델 학습\n",
    "kmeans = KMeans(n_clusters=2, init='k-means++', max_iter=300, random_state=42)\n",
    "kmeans.fit(X_train)\n",
    "kmeans_val_pred = kmeans.predict(X_val)\n",
    "\n",
    "# 모델 결과 확인\n",
    "unique, counts = np.unique(kmeans_val_pred, return_counts=True)\n",
    "kmeans_contamination = counts[1] / counts[0]\n",
    "print(f'클래스 : {unique}, 클래스별 개수 : {counts}')\n",
    "print(f'정상 데이터 : {counts[0]}, 사기 데이터 : {counts[1]}')\n",
    "print(f'검증 데이터의 사기 비율 : [{kmeans_contamination}]')\n",
    "\n",
    "# 모델 성능 확인\n",
    "print(classification_report(y_val, kmeans_val_pred))"
   ]
  },
  {
   "cell_type": "markdown",
   "metadata": {},
   "source": [
    "<h2>MeanShift</h2>"
   ]
  },
  {
   "cell_type": "code",
   "execution_count": null,
   "metadata": {},
   "outputs": [],
   "source": [
    "# 모델 학습\n",
    "MS = MeanShift(bandwidth=2)\n",
    "MS.fit(X_train)\n",
    "MS_val_pred = MS.predict(X_val)\n",
    "\n",
    "# 모델 결과 확인\n",
    "unique, counts = np.unique(MS_val_pred, return_counts=True)\n",
    "MS_contamination = counts[1] / counts[0]\n",
    "print(f'클래스 : {unique}, 클래스별 개수 : {counts}')\n",
    "print(f'정상 데이터 : {counts[0]}, 사기 데이터 : {counts[1]}')\n",
    "print(f'검증 데이터의 사기 비율 : [{MS_contamination}]')\n",
    "\n",
    "# 모델 성능 확인\n",
    "print(classification_report(y_val, MS_val_pred))"
   ]
  },
  {
   "cell_type": "markdown",
   "metadata": {},
   "source": [
    "<h2>GMM</h2>"
   ]
  },
  {
   "cell_type": "code",
   "execution_count": 52,
   "metadata": {},
   "outputs": [
    {
     "name": "stdout",
     "output_type": "stream",
     "text": [
      "클래스 : [0 1], 클래스별 개수 : [17872 10590]\n",
      "정상 데이터 : 17872, 사기 데이터 : 10590\n",
      "검증 데이터의 사기 비율 : [0.5925470008952551]\n",
      "              precision    recall  f1-score   support\n",
      "\n",
      "           0       1.00      0.63      0.77     28432\n",
      "           1       0.00      0.90      0.01        30\n",
      "\n",
      "    accuracy                           0.63     28462\n",
      "   macro avg       0.50      0.76      0.39     28462\n",
      "weighted avg       1.00      0.63      0.77     28462\n",
      "\n"
     ]
    }
   ],
   "source": [
    "# 모델 학습\n",
    "gmm = GaussianMixture(n_components=2, random_state=42)\n",
    "gmm.fit(X_train)\n",
    "gmm_val_pred = gmm.predict(X_val)\n",
    "\n",
    "# 모델 결과 확인\n",
    "unique, counts = np.unique(gmm_val_pred, return_counts=True)\n",
    "gmm_contamination = counts[1] / counts[0]\n",
    "print(f'클래스 : {unique}, 클래스별 개수 : {counts}')\n",
    "print(f'정상 데이터 : {counts[0]}, 사기 데이터 : {counts[1]}')\n",
    "print(f'검증 데이터의 사기 비율 : [{gmm_contamination}]')\n",
    "\n",
    "# 모델 성능 확인\n",
    "print(classification_report(y_val, gmm_val_pred))"
   ]
  },
  {
   "cell_type": "markdown",
   "metadata": {},
   "source": [
    "<h2>DBSCAN</h2>"
   ]
  },
  {
   "cell_type": "code",
   "execution_count": 33,
   "metadata": {},
   "outputs": [],
   "source": [
    "def get_pred_label_db(model_pred):\n",
    "    model_pred = np.where(model_pred == -1, 0, model_pred)\n",
    "    model_pred = np.where(model_pred != 0, 1, model_pred)\n",
    "    return model_pred"
   ]
  },
  {
   "cell_type": "code",
   "execution_count": 35,
   "metadata": {},
   "outputs": [
    {
     "name": "stdout",
     "output_type": "stream",
     "text": [
      "클래스 : [0 1], 클래스별 개수 : [26246  2216]\n",
      "정상 데이터 : 26246, 사기 데이터 : 2216\n",
      "검증 데이터의 사기 비율 : [0.0844319134344281]\n",
      "              precision    recall  f1-score   support\n",
      "\n",
      "           0       1.00      0.92      0.96     28432\n",
      "           1       0.00      0.00      0.00        30\n",
      "\n",
      "    accuracy                           0.92     28462\n",
      "   macro avg       0.50      0.46      0.48     28462\n",
      "weighted avg       1.00      0.92      0.96     28462\n",
      "\n"
     ]
    }
   ],
   "source": [
    "# 모델 학습\n",
    "dbscan = DBSCAN(metric='euclidean')\n",
    "dbscan_val_pred = dbscan.fit_predict(X_val)\n",
    "dbscan_val_pred = get_pred_label_db(dbscan_val_pred)\n",
    "\n",
    "# 모델 결과 확인\n",
    "unique, counts = np.unique(dbscan_val_pred, return_counts=True)\n",
    "dbscan_contamination = counts[1] / counts[0]\n",
    "print(f'클래스 : {unique}, 클래스별 개수 : {counts}')\n",
    "print(f'정상 데이터 : {counts[0]}, 사기 데이터 : {counts[1]}')\n",
    "print(f'검증 데이터의 사기 비율 : [{dbscan_contamination}]')\n",
    "\n",
    "# 모델 성능 확인\n",
    "print(classification_report(y_val, dbscan_val_pred))"
   ]
  },
  {
   "cell_type": "markdown",
   "metadata": {},
   "source": [
    "<h2>One-Class SVM</h2>"
   ]
  },
  {
   "cell_type": "code",
   "execution_count": 11,
   "metadata": {},
   "outputs": [
    {
     "name": "stdout",
     "output_type": "stream",
     "text": [
      "클래스 : [0 1], 클래스별 개수 : [14338 14124]\n",
      "정상 데이터 : 14338, 사기 데이터 : 14124\n",
      "검증 데이터의 사기 비율 : [0.9850746268656716]\n",
      "              precision    recall  f1-score   support\n",
      "\n",
      "           0       1.00      0.50      0.67     28432\n",
      "           1       0.00      1.00      0.00        30\n",
      "\n",
      "    accuracy                           0.50     28462\n",
      "   macro avg       0.50      0.75      0.34     28462\n",
      "weighted avg       1.00      0.50      0.67     28462\n",
      "\n"
     ]
    }
   ],
   "source": [
    "# 모델 학습\n",
    "ocsvm=OneClassSVM()\n",
    "ocsvm.fit(X_train)\n",
    "ocsvm_val_pred = ocsvm.predict(X_val)\n",
    "ocsvm_val_pred = get_pred_label(ocsvm_val_pred)\n",
    "\n",
    "# 모델 결과 확인\n",
    "unique, counts = np.unique(ocsvm_val_pred, return_counts=True)\n",
    "unique, counts\n",
    "ocsvm_contamination = counts[1] / counts[0]\n",
    "print(f'클래스 : {unique}, 클래스별 개수 : {counts}')\n",
    "print(f'정상 데이터 : {counts[0]}, 사기 데이터 : {counts[1]}')\n",
    "print(f'검증 데이터의 사기 비율 : [{ocsvm_contamination}]')\n",
    "\n",
    "# 모델 성능 확인\n",
    "print(classification_report(y_val, ocsvm_val_pred))"
   ]
  },
  {
   "cell_type": "markdown",
   "metadata": {},
   "source": [
    "<h2>EllipticEnvelope</h2>"
   ]
  },
  {
   "cell_type": "code",
   "execution_count": 67,
   "metadata": {},
   "outputs": [
    {
     "name": "stderr",
     "output_type": "stream",
     "text": [
      "c:\\ProgramData\\Anaconda3\\envs\\card\\lib\\site-packages\\sklearn\\covariance\\_robust_covariance.py:183: RuntimeWarning: Determinant has increased; this should not happen: log(det) > log(previous_det) (-249.599331078406266 > -250.697382326149096). You may want to try with a higher value of support_fraction (current value: 0.501).\n",
      "  warnings.warn(\n",
      "c:\\ProgramData\\Anaconda3\\envs\\card\\lib\\site-packages\\sklearn\\covariance\\_robust_covariance.py:183: RuntimeWarning: Determinant has increased; this should not happen: log(det) > log(previous_det) (-223.914784687370542 > -277.171747005816769). You may want to try with a higher value of support_fraction (current value: 0.501).\n",
      "  warnings.warn(\n",
      "c:\\ProgramData\\Anaconda3\\envs\\card\\lib\\site-packages\\sklearn\\covariance\\_robust_covariance.py:183: RuntimeWarning: Determinant has increased; this should not happen: log(det) > log(previous_det) (-250.385012878634939 > -250.517936827159701). You may want to try with a higher value of support_fraction (current value: 0.501).\n",
      "  warnings.warn(\n",
      "c:\\ProgramData\\Anaconda3\\envs\\card\\lib\\site-packages\\sklearn\\covariance\\_robust_covariance.py:183: RuntimeWarning: Determinant has increased; this should not happen: log(det) > log(previous_det) (-216.250485193825938 > -242.139584136294900). You may want to try with a higher value of support_fraction (current value: 0.501).\n",
      "  warnings.warn(\n",
      "c:\\ProgramData\\Anaconda3\\envs\\card\\lib\\site-packages\\sklearn\\covariance\\_robust_covariance.py:183: RuntimeWarning: Determinant has increased; this should not happen: log(det) > log(previous_det) (-255.996966058543677 > -279.153918115954127). You may want to try with a higher value of support_fraction (current value: 0.501).\n",
      "  warnings.warn(\n",
      "c:\\ProgramData\\Anaconda3\\envs\\card\\lib\\site-packages\\sklearn\\covariance\\_robust_covariance.py:183: RuntimeWarning: Determinant has increased; this should not happen: log(det) > log(previous_det) (-280.070888913930276 > -281.401324496456141). You may want to try with a higher value of support_fraction (current value: 0.501).\n",
      "  warnings.warn(\n",
      "c:\\ProgramData\\Anaconda3\\envs\\card\\lib\\site-packages\\sklearn\\covariance\\_robust_covariance.py:183: RuntimeWarning: Determinant has increased; this should not happen: log(det) > log(previous_det) (-251.026745553970954 > -252.980983258022405). You may want to try with a higher value of support_fraction (current value: 0.501).\n",
      "  warnings.warn(\n",
      "c:\\ProgramData\\Anaconda3\\envs\\card\\lib\\site-packages\\sklearn\\covariance\\_robust_covariance.py:183: RuntimeWarning: Determinant has increased; this should not happen: log(det) > log(previous_det) (-192.721281609083377 > -276.147119450850482). You may want to try with a higher value of support_fraction (current value: 0.501).\n",
      "  warnings.warn(\n",
      "c:\\ProgramData\\Anaconda3\\envs\\card\\lib\\site-packages\\sklearn\\covariance\\_robust_covariance.py:183: RuntimeWarning: Determinant has increased; this should not happen: log(det) > log(previous_det) (-251.407815620992494 > -278.742264834719492). You may want to try with a higher value of support_fraction (current value: 0.501).\n",
      "  warnings.warn(\n",
      "c:\\ProgramData\\Anaconda3\\envs\\card\\lib\\site-packages\\sklearn\\covariance\\_robust_covariance.py:183: RuntimeWarning: Determinant has increased; this should not happen: log(det) > log(previous_det) (-198.228629470355742 > -273.464312567907541). You may want to try with a higher value of support_fraction (current value: 0.501).\n",
      "  warnings.warn(\n",
      "c:\\ProgramData\\Anaconda3\\envs\\card\\lib\\site-packages\\sklearn\\covariance\\_robust_covariance.py:183: RuntimeWarning: Determinant has increased; this should not happen: log(det) > log(previous_det) (-255.036627351174189 > -277.677652395126358). You may want to try with a higher value of support_fraction (current value: 0.501).\n",
      "  warnings.warn(\n",
      "c:\\ProgramData\\Anaconda3\\envs\\card\\lib\\site-packages\\sklearn\\covariance\\_robust_covariance.py:183: RuntimeWarning: Determinant has increased; this should not happen: log(det) > log(previous_det) (-190.552161450635481 > -240.587556182667953). You may want to try with a higher value of support_fraction (current value: 0.501).\n",
      "  warnings.warn(\n",
      "c:\\ProgramData\\Anaconda3\\envs\\card\\lib\\site-packages\\sklearn\\covariance\\_robust_covariance.py:183: RuntimeWarning: Determinant has increased; this should not happen: log(det) > log(previous_det) (-157.780643557761209 > -302.236186620169633). You may want to try with a higher value of support_fraction (current value: 0.501).\n",
      "  warnings.warn(\n",
      "c:\\ProgramData\\Anaconda3\\envs\\card\\lib\\site-packages\\sklearn\\covariance\\_robust_covariance.py:183: RuntimeWarning: Determinant has increased; this should not happen: log(det) > log(previous_det) (-214.381154839473879 > -240.402592966993751). You may want to try with a higher value of support_fraction (current value: 0.501).\n",
      "  warnings.warn(\n",
      "c:\\ProgramData\\Anaconda3\\envs\\card\\lib\\site-packages\\sklearn\\covariance\\_robust_covariance.py:183: RuntimeWarning: Determinant has increased; this should not happen: log(det) > log(previous_det) (-283.435859848087432 > -283.449266572178090). You may want to try with a higher value of support_fraction (current value: 0.501).\n",
      "  warnings.warn(\n",
      "c:\\ProgramData\\Anaconda3\\envs\\card\\lib\\site-packages\\sklearn\\covariance\\_robust_covariance.py:183: RuntimeWarning: Determinant has increased; this should not happen: log(det) > log(previous_det) (-253.311842963835147 > -254.540379274416637). You may want to try with a higher value of support_fraction (current value: 0.501).\n",
      "  warnings.warn(\n",
      "c:\\ProgramData\\Anaconda3\\envs\\card\\lib\\site-packages\\sklearn\\covariance\\_robust_covariance.py:183: RuntimeWarning: Determinant has increased; this should not happen: log(det) > log(previous_det) (-230.010968879863071 > -307.500402457043378). You may want to try with a higher value of support_fraction (current value: 0.501).\n",
      "  warnings.warn(\n",
      "c:\\ProgramData\\Anaconda3\\envs\\card\\lib\\site-packages\\sklearn\\covariance\\_robust_covariance.py:183: RuntimeWarning: Determinant has increased; this should not happen: log(det) > log(previous_det) (-215.789563427375555 > -276.568494156140616). You may want to try with a higher value of support_fraction (current value: 0.501).\n",
      "  warnings.warn(\n",
      "c:\\ProgramData\\Anaconda3\\envs\\card\\lib\\site-packages\\sklearn\\covariance\\_robust_covariance.py:183: RuntimeWarning: Determinant has increased; this should not happen: log(det) > log(previous_det) (-282.782587084254089 > -283.781864216169481). You may want to try with a higher value of support_fraction (current value: 0.501).\n",
      "  warnings.warn(\n",
      "c:\\ProgramData\\Anaconda3\\envs\\card\\lib\\site-packages\\sklearn\\covariance\\_robust_covariance.py:183: RuntimeWarning: Determinant has increased; this should not happen: log(det) > log(previous_det) (-224.713578512534383 > -308.557547570421661). You may want to try with a higher value of support_fraction (current value: 0.501).\n",
      "  warnings.warn(\n",
      "c:\\ProgramData\\Anaconda3\\envs\\card\\lib\\site-packages\\sklearn\\covariance\\_robust_covariance.py:183: RuntimeWarning: Determinant has increased; this should not happen: log(det) > log(previous_det) (-215.942149512105317 > -243.512433208676470). You may want to try with a higher value of support_fraction (current value: 0.501).\n",
      "  warnings.warn(\n",
      "c:\\ProgramData\\Anaconda3\\envs\\card\\lib\\site-packages\\sklearn\\covariance\\_robust_covariance.py:183: RuntimeWarning: Determinant has increased; this should not happen: log(det) > log(previous_det) (-215.807258615359103 > -275.618919289874611). You may want to try with a higher value of support_fraction (current value: 0.501).\n",
      "  warnings.warn(\n",
      "c:\\ProgramData\\Anaconda3\\envs\\card\\lib\\site-packages\\sklearn\\covariance\\_robust_covariance.py:183: RuntimeWarning: Determinant has increased; this should not happen: log(det) > log(previous_det) (-193.116168736254508 > -249.236238976906094). You may want to try with a higher value of support_fraction (current value: 0.501).\n",
      "  warnings.warn(\n",
      "c:\\ProgramData\\Anaconda3\\envs\\card\\lib\\site-packages\\sklearn\\covariance\\_robust_covariance.py:183: RuntimeWarning: Determinant has increased; this should not happen: log(det) > log(previous_det) (-159.501924475780299 > -159.764385016853026). You may want to try with a higher value of support_fraction (current value: 0.501).\n",
      "  warnings.warn(\n",
      "c:\\ProgramData\\Anaconda3\\envs\\card\\lib\\site-packages\\sklearn\\covariance\\_robust_covariance.py:183: RuntimeWarning: Determinant has increased; this should not happen: log(det) > log(previous_det) (-283.615735852343846 > -285.428704393088140). You may want to try with a higher value of support_fraction (current value: 0.501).\n",
      "  warnings.warn(\n",
      "c:\\ProgramData\\Anaconda3\\envs\\card\\lib\\site-packages\\sklearn\\covariance\\_robust_covariance.py:183: RuntimeWarning: Determinant has increased; this should not happen: log(det) > log(previous_det) (-190.193967754889940 > -191.754061473479339). You may want to try with a higher value of support_fraction (current value: 0.501).\n",
      "  warnings.warn(\n",
      "c:\\ProgramData\\Anaconda3\\envs\\card\\lib\\site-packages\\sklearn\\covariance\\_robust_covariance.py:183: RuntimeWarning: Determinant has increased; this should not happen: log(det) > log(previous_det) (-186.935541625276301 > -187.123754564291545). You may want to try with a higher value of support_fraction (current value: 0.501).\n",
      "  warnings.warn(\n",
      "c:\\ProgramData\\Anaconda3\\envs\\card\\lib\\site-packages\\sklearn\\covariance\\_robust_covariance.py:183: RuntimeWarning: Determinant has increased; this should not happen: log(det) > log(previous_det) (-255.368375761743550 > -258.460411117787089). You may want to try with a higher value of support_fraction (current value: 0.501).\n",
      "  warnings.warn(\n",
      "c:\\ProgramData\\Anaconda3\\envs\\card\\lib\\site-packages\\sklearn\\covariance\\_robust_covariance.py:183: RuntimeWarning: Determinant has increased; this should not happen: log(det) > log(previous_det) (-253.947191960768805 > -277.556603610656055). You may want to try with a higher value of support_fraction (current value: 0.501).\n",
      "  warnings.warn(\n",
      "c:\\ProgramData\\Anaconda3\\envs\\card\\lib\\site-packages\\sklearn\\covariance\\_robust_covariance.py:183: RuntimeWarning: Determinant has increased; this should not happen: log(det) > log(previous_det) (-216.837778497231568 > -243.027488599523167). You may want to try with a higher value of support_fraction (current value: 0.501).\n",
      "  warnings.warn(\n",
      "c:\\ProgramData\\Anaconda3\\envs\\card\\lib\\site-packages\\sklearn\\covariance\\_robust_covariance.py:183: RuntimeWarning: Determinant has increased; this should not happen: log(det) > log(previous_det) (-286.268736203589640 > -286.657808497875749). You may want to try with a higher value of support_fraction (current value: 0.501).\n",
      "  warnings.warn(\n",
      "c:\\ProgramData\\Anaconda3\\envs\\card\\lib\\site-packages\\sklearn\\covariance\\_robust_covariance.py:183: RuntimeWarning: Determinant has increased; this should not happen: log(det) > log(previous_det) (-225.979553337470719 > -299.177834640034462). You may want to try with a higher value of support_fraction (current value: 0.501).\n",
      "  warnings.warn(\n",
      "c:\\ProgramData\\Anaconda3\\envs\\card\\lib\\site-packages\\sklearn\\covariance\\_robust_covariance.py:183: RuntimeWarning: Determinant has increased; this should not happen: log(det) > log(previous_det) (-223.686933236894134 > -246.234133994422336). You may want to try with a higher value of support_fraction (current value: 0.501).\n",
      "  warnings.warn(\n",
      "c:\\ProgramData\\Anaconda3\\envs\\card\\lib\\site-packages\\sklearn\\covariance\\_robust_covariance.py:183: RuntimeWarning: Determinant has increased; this should not happen: log(det) > log(previous_det) (-196.036612631525600 > -304.958402700204545). You may want to try with a higher value of support_fraction (current value: 0.501).\n",
      "  warnings.warn(\n",
      "c:\\ProgramData\\Anaconda3\\envs\\card\\lib\\site-packages\\sklearn\\covariance\\_robust_covariance.py:183: RuntimeWarning: Determinant has increased; this should not happen: log(det) > log(previous_det) (-282.026148566975849 > -283.688539747329457). You may want to try with a higher value of support_fraction (current value: 0.501).\n",
      "  warnings.warn(\n",
      "c:\\ProgramData\\Anaconda3\\envs\\card\\lib\\site-packages\\sklearn\\covariance\\_robust_covariance.py:183: RuntimeWarning: Determinant has increased; this should not happen: log(det) > log(previous_det) (-214.257726698310165 > -214.427261028891309). You may want to try with a higher value of support_fraction (current value: 0.501).\n",
      "  warnings.warn(\n",
      "c:\\ProgramData\\Anaconda3\\envs\\card\\lib\\site-packages\\sklearn\\covariance\\_robust_covariance.py:183: RuntimeWarning: Determinant has increased; this should not happen: log(det) > log(previous_det) (-286.190048701723981 > -287.196244102847231). You may want to try with a higher value of support_fraction (current value: 0.501).\n",
      "  warnings.warn(\n",
      "c:\\ProgramData\\Anaconda3\\envs\\card\\lib\\site-packages\\sklearn\\covariance\\_robust_covariance.py:183: RuntimeWarning: Determinant has increased; this should not happen: log(det) > log(previous_det) (-193.411088563148240 > -273.278639905072055). You may want to try with a higher value of support_fraction (current value: 0.501).\n",
      "  warnings.warn(\n",
      "c:\\ProgramData\\Anaconda3\\envs\\card\\lib\\site-packages\\sklearn\\covariance\\_robust_covariance.py:183: RuntimeWarning: Determinant has increased; this should not happen: log(det) > log(previous_det) (-219.331102534926430 > -279.740932876630552). You may want to try with a higher value of support_fraction (current value: 0.501).\n",
      "  warnings.warn(\n",
      "c:\\ProgramData\\Anaconda3\\envs\\card\\lib\\site-packages\\sklearn\\covariance\\_robust_covariance.py:183: RuntimeWarning: Determinant has increased; this should not happen: log(det) > log(previous_det) (-248.767807459424347 > -249.972769989106467). You may want to try with a higher value of support_fraction (current value: 0.501).\n",
      "  warnings.warn(\n",
      "c:\\ProgramData\\Anaconda3\\envs\\card\\lib\\site-packages\\sklearn\\covariance\\_robust_covariance.py:183: RuntimeWarning: Determinant has increased; this should not happen: log(det) > log(previous_det) (-250.105742198017452 > -250.996806792734077). You may want to try with a higher value of support_fraction (current value: 0.501).\n",
      "  warnings.warn(\n",
      "c:\\ProgramData\\Anaconda3\\envs\\card\\lib\\site-packages\\sklearn\\covariance\\_robust_covariance.py:183: RuntimeWarning: Determinant has increased; this should not happen: log(det) > log(previous_det) (-254.914700421950386 > -276.816782710600535). You may want to try with a higher value of support_fraction (current value: 0.501).\n",
      "  warnings.warn(\n",
      "c:\\ProgramData\\Anaconda3\\envs\\card\\lib\\site-packages\\sklearn\\covariance\\_robust_covariance.py:183: RuntimeWarning: Determinant has increased; this should not happen: log(det) > log(previous_det) (-228.758505707414685 > -245.891219399640391). You may want to try with a higher value of support_fraction (current value: 0.501).\n",
      "  warnings.warn(\n",
      "c:\\ProgramData\\Anaconda3\\envs\\card\\lib\\site-packages\\sklearn\\covariance\\_robust_covariance.py:183: RuntimeWarning: Determinant has increased; this should not happen: log(det) > log(previous_det) (-229.113458640054802 > -251.445689617868396). You may want to try with a higher value of support_fraction (current value: 0.501).\n",
      "  warnings.warn(\n",
      "c:\\ProgramData\\Anaconda3\\envs\\card\\lib\\site-packages\\sklearn\\covariance\\_robust_covariance.py:183: RuntimeWarning: Determinant has increased; this should not happen: log(det) > log(previous_det) (-218.353604334460471 > -245.172269902848655). You may want to try with a higher value of support_fraction (current value: 0.501).\n",
      "  warnings.warn(\n",
      "c:\\ProgramData\\Anaconda3\\envs\\card\\lib\\site-packages\\sklearn\\covariance\\_robust_covariance.py:183: RuntimeWarning: Determinant has increased; this should not happen: log(det) > log(previous_det) (-192.170033966525011 > -279.950175977831236). You may want to try with a higher value of support_fraction (current value: 0.501).\n",
      "  warnings.warn(\n",
      "c:\\ProgramData\\Anaconda3\\envs\\card\\lib\\site-packages\\sklearn\\covariance\\_robust_covariance.py:183: RuntimeWarning: Determinant has increased; this should not happen: log(det) > log(previous_det) (-248.577912857913162 > -279.485581310583427). You may want to try with a higher value of support_fraction (current value: 0.501).\n",
      "  warnings.warn(\n",
      "c:\\ProgramData\\Anaconda3\\envs\\card\\lib\\site-packages\\sklearn\\covariance\\_robust_covariance.py:183: RuntimeWarning: Determinant has increased; this should not happen: log(det) > log(previous_det) (-172.282585625519602 > -336.609482890146126). You may want to try with a higher value of support_fraction (current value: 0.501).\n",
      "  warnings.warn(\n",
      "c:\\ProgramData\\Anaconda3\\envs\\card\\lib\\site-packages\\sklearn\\covariance\\_robust_covariance.py:183: RuntimeWarning: Determinant has increased; this should not happen: log(det) > log(previous_det) (-221.332116916530822 > -221.594758597759181). You may want to try with a higher value of support_fraction (current value: 0.501).\n",
      "  warnings.warn(\n",
      "c:\\ProgramData\\Anaconda3\\envs\\card\\lib\\site-packages\\sklearn\\covariance\\_robust_covariance.py:183: RuntimeWarning: Determinant has increased; this should not happen: log(det) > log(previous_det) (-219.042721698361362 > -243.377186707759620). You may want to try with a higher value of support_fraction (current value: 0.501).\n",
      "  warnings.warn(\n",
      "c:\\ProgramData\\Anaconda3\\envs\\card\\lib\\site-packages\\sklearn\\covariance\\_robust_covariance.py:183: RuntimeWarning: Determinant has increased; this should not happen: log(det) > log(previous_det) (-202.272710318724052 > -270.436957509210856). You may want to try with a higher value of support_fraction (current value: 0.501).\n",
      "  warnings.warn(\n",
      "c:\\ProgramData\\Anaconda3\\envs\\card\\lib\\site-packages\\sklearn\\covariance\\_robust_covariance.py:183: RuntimeWarning: Determinant has increased; this should not happen: log(det) > log(previous_det) (-199.263488154741310 > -277.626466006830810). You may want to try with a higher value of support_fraction (current value: 0.501).\n",
      "  warnings.warn(\n",
      "c:\\ProgramData\\Anaconda3\\envs\\card\\lib\\site-packages\\sklearn\\covariance\\_robust_covariance.py:183: RuntimeWarning: Determinant has increased; this should not happen: log(det) > log(previous_det) (-248.962087417581301 > -250.884792084397873). You may want to try with a higher value of support_fraction (current value: 0.501).\n",
      "  warnings.warn(\n",
      "c:\\ProgramData\\Anaconda3\\envs\\card\\lib\\site-packages\\sklearn\\covariance\\_robust_covariance.py:183: RuntimeWarning: Determinant has increased; this should not happen: log(det) > log(previous_det) (-257.817787572794600 > -279.141931067874339). You may want to try with a higher value of support_fraction (current value: 0.501).\n",
      "  warnings.warn(\n",
      "c:\\ProgramData\\Anaconda3\\envs\\card\\lib\\site-packages\\sklearn\\covariance\\_robust_covariance.py:183: RuntimeWarning: Determinant has increased; this should not happen: log(det) > log(previous_det) (-215.303156397266747 > -241.711434503297284). You may want to try with a higher value of support_fraction (current value: 0.501).\n",
      "  warnings.warn(\n",
      "c:\\ProgramData\\Anaconda3\\envs\\card\\lib\\site-packages\\sklearn\\covariance\\_robust_covariance.py:183: RuntimeWarning: Determinant has increased; this should not happen: log(det) > log(previous_det) (-226.227455928873553 > -307.435777362496481). You may want to try with a higher value of support_fraction (current value: 0.501).\n",
      "  warnings.warn(\n",
      "c:\\ProgramData\\Anaconda3\\envs\\card\\lib\\site-packages\\sklearn\\covariance\\_robust_covariance.py:183: RuntimeWarning: Determinant has increased; this should not happen: log(det) > log(previous_det) (-188.580984533840905 > -188.856852725002796). You may want to try with a higher value of support_fraction (current value: 0.501).\n",
      "  warnings.warn(\n",
      "c:\\ProgramData\\Anaconda3\\envs\\card\\lib\\site-packages\\sklearn\\covariance\\_robust_covariance.py:183: RuntimeWarning: Determinant has increased; this should not happen: log(det) > log(previous_det) (-251.586700888150943 > -252.883706413152879). You may want to try with a higher value of support_fraction (current value: 0.501).\n",
      "  warnings.warn(\n",
      "c:\\ProgramData\\Anaconda3\\envs\\card\\lib\\site-packages\\sklearn\\covariance\\_robust_covariance.py:183: RuntimeWarning: Determinant has increased; this should not happen: log(det) > log(previous_det) (-216.297870659278800 > -272.885533589673969). You may want to try with a higher value of support_fraction (current value: 0.501).\n",
      "  warnings.warn(\n",
      "c:\\ProgramData\\Anaconda3\\envs\\card\\lib\\site-packages\\sklearn\\covariance\\_robust_covariance.py:183: RuntimeWarning: Determinant has increased; this should not happen: log(det) > log(previous_det) (-253.579276137375047 > -254.653196961267810). You may want to try with a higher value of support_fraction (current value: 0.501).\n",
      "  warnings.warn(\n",
      "c:\\ProgramData\\Anaconda3\\envs\\card\\lib\\site-packages\\sklearn\\covariance\\_robust_covariance.py:183: RuntimeWarning: Determinant has increased; this should not happen: log(det) > log(previous_det) (-193.059849599688960 > -243.783104903445007). You may want to try with a higher value of support_fraction (current value: 0.501).\n",
      "  warnings.warn(\n",
      "c:\\ProgramData\\Anaconda3\\envs\\card\\lib\\site-packages\\sklearn\\covariance\\_robust_covariance.py:183: RuntimeWarning: Determinant has increased; this should not happen: log(det) > log(previous_det) (-225.477311992699697 > -302.657750833791852). You may want to try with a higher value of support_fraction (current value: 0.501).\n",
      "  warnings.warn(\n",
      "c:\\ProgramData\\Anaconda3\\envs\\card\\lib\\site-packages\\sklearn\\covariance\\_robust_covariance.py:183: RuntimeWarning: Determinant has increased; this should not happen: log(det) > log(previous_det) (-254.067861926415446 > -254.836400580604447). You may want to try with a higher value of support_fraction (current value: 0.501).\n",
      "  warnings.warn(\n",
      "c:\\ProgramData\\Anaconda3\\envs\\card\\lib\\site-packages\\sklearn\\covariance\\_robust_covariance.py:183: RuntimeWarning: Determinant has increased; this should not happen: log(det) > log(previous_det) (-108.991445201995091 > -237.884164352240902). You may want to try with a higher value of support_fraction (current value: 0.501).\n",
      "  warnings.warn(\n",
      "c:\\ProgramData\\Anaconda3\\envs\\card\\lib\\site-packages\\sklearn\\covariance\\_robust_covariance.py:183: RuntimeWarning: Determinant has increased; this should not happen: log(det) > log(previous_det) (-225.582928288929338 > -310.050244597449819). You may want to try with a higher value of support_fraction (current value: 0.501).\n",
      "  warnings.warn(\n",
      "c:\\ProgramData\\Anaconda3\\envs\\card\\lib\\site-packages\\sklearn\\covariance\\_robust_covariance.py:183: RuntimeWarning: Determinant has increased; this should not happen: log(det) > log(previous_det) (-281.423223878196268 > -281.543379095853481). You may want to try with a higher value of support_fraction (current value: 0.501).\n",
      "  warnings.warn(\n",
      "c:\\ProgramData\\Anaconda3\\envs\\card\\lib\\site-packages\\sklearn\\covariance\\_robust_covariance.py:183: RuntimeWarning: Determinant has increased; this should not happen: log(det) > log(previous_det) (-283.498989543599009 > -286.449242292946735). You may want to try with a higher value of support_fraction (current value: 0.501).\n",
      "  warnings.warn(\n",
      "c:\\ProgramData\\Anaconda3\\envs\\card\\lib\\site-packages\\sklearn\\covariance\\_robust_covariance.py:183: RuntimeWarning: Determinant has increased; this should not happen: log(det) > log(previous_det) (-284.455044316084297 > -285.069800363554521). You may want to try with a higher value of support_fraction (current value: 0.501).\n",
      "  warnings.warn(\n",
      "c:\\ProgramData\\Anaconda3\\envs\\card\\lib\\site-packages\\sklearn\\covariance\\_robust_covariance.py:183: RuntimeWarning: Determinant has increased; this should not happen: log(det) > log(previous_det) (-190.164377570989757 > -191.609816576766491). You may want to try with a higher value of support_fraction (current value: 0.501).\n",
      "  warnings.warn(\n",
      "c:\\ProgramData\\Anaconda3\\envs\\card\\lib\\site-packages\\sklearn\\covariance\\_robust_covariance.py:183: RuntimeWarning: Determinant has increased; this should not happen: log(det) > log(previous_det) (-226.641456159146230 > -307.625480176764540). You may want to try with a higher value of support_fraction (current value: 0.501).\n",
      "  warnings.warn(\n",
      "c:\\ProgramData\\Anaconda3\\envs\\card\\lib\\site-packages\\sklearn\\covariance\\_robust_covariance.py:183: RuntimeWarning: Determinant has increased; this should not happen: log(det) > log(previous_det) (-243.426991862764282 > -247.726755756167165). You may want to try with a higher value of support_fraction (current value: 0.501).\n",
      "  warnings.warn(\n",
      "c:\\ProgramData\\Anaconda3\\envs\\card\\lib\\site-packages\\sklearn\\covariance\\_robust_covariance.py:183: RuntimeWarning: Determinant has increased; this should not happen: log(det) > log(previous_det) (-223.986507458637675 > -245.640799786312158). You may want to try with a higher value of support_fraction (current value: 0.501).\n",
      "  warnings.warn(\n",
      "c:\\ProgramData\\Anaconda3\\envs\\card\\lib\\site-packages\\sklearn\\covariance\\_robust_covariance.py:183: RuntimeWarning: Determinant has increased; this should not happen: log(det) > log(previous_det) (-225.295288122784086 > -271.797607859294430). You may want to try with a higher value of support_fraction (current value: 0.501).\n",
      "  warnings.warn(\n",
      "c:\\ProgramData\\Anaconda3\\envs\\card\\lib\\site-packages\\sklearn\\covariance\\_robust_covariance.py:183: RuntimeWarning: Determinant has increased; this should not happen: log(det) > log(previous_det) (-224.594805890058666 > -307.368624529522947). You may want to try with a higher value of support_fraction (current value: 0.501).\n",
      "  warnings.warn(\n",
      "c:\\ProgramData\\Anaconda3\\envs\\card\\lib\\site-packages\\sklearn\\covariance\\_robust_covariance.py:183: RuntimeWarning: Determinant has increased; this should not happen: log(det) > log(previous_det) (-142.563987680840739 > -242.510747166259762). You may want to try with a higher value of support_fraction (current value: 0.500).\n",
      "  warnings.warn(\n"
     ]
    },
    {
     "name": "stdout",
     "output_type": "stream",
     "text": [
      "클래스 : [0 1], 클래스별 개수 : [28437    25]\n",
      "정상 데이터 : 28437, 사기 데이터 : 25\n",
      "검증 데이터의 사기 비율 : [0.0008791363364630587]\n",
      "              precision    recall  f1-score   support\n",
      "\n",
      "           0       1.00      1.00      1.00     28432\n",
      "           1       0.00      0.00      0.00        30\n",
      "\n",
      "    accuracy                           1.00     28462\n",
      "   macro avg       0.50      0.50      0.50     28462\n",
      "weighted avg       1.00      1.00      1.00     28462\n",
      "\n"
     ]
    }
   ],
   "source": [
    "# 모델 학습\n",
    "ell = EllipticEnvelope(contamination=val_contamination)\n",
    "ell.fit(X_train)\n",
    "ell_val_pred = ell.predict(X_val)\n",
    "ell_val_pred = get_pred_label(ell_val_pred)\n",
    "\n",
    "# 모델 결과 확인\n",
    "unique, counts = np.unique(ell_val_pred, return_counts=True)\n",
    "ell_contamination = counts[1] / counts[0]\n",
    "print(f'클래스 : {unique}, 클래스별 개수 : {counts}')\n",
    "print(f'정상 데이터 : {counts[0]}, 사기 데이터 : {counts[1]}')\n",
    "print(f'검증 데이터의 사기 비율 : [{ell_contamination}]')\n",
    "\n",
    "# 모델 성능 확인\n",
    "print(classification_report(y_val, ell_val_pred))"
   ]
  },
  {
   "cell_type": "markdown",
   "metadata": {},
   "source": [
    "<h2>LOF</h2>"
   ]
  },
  {
   "cell_type": "code",
   "execution_count": 10,
   "metadata": {},
   "outputs": [
    {
     "name": "stdout",
     "output_type": "stream",
     "text": [
      "클래스 : [0 1], 클래스별 개수 : [28431    31]\n",
      "정상 데이터 : 28431, 사기 데이터 : 31\n",
      "검증 데이터의 사기 비율 : [0.001090359115050473]\n",
      "              precision    recall  f1-score   support\n",
      "\n",
      "           0       1.00      1.00      1.00     28432\n",
      "           1       0.29      0.30      0.30        30\n",
      "\n",
      "    accuracy                           1.00     28462\n",
      "   macro avg       0.64      0.65      0.65     28462\n",
      "weighted avg       1.00      1.00      1.00     28462\n",
      "\n"
     ]
    }
   ],
   "source": [
    "# 모델 학습\n",
    "lof = LocalOutlierFactor(n_neighbors=20, contamination=val_contamination, algorithm='kd_tree', p=10)\n",
    "lof_val_pred = lof.fit_predict(X_val)\n",
    "lof_val_pred = get_pred_label(lof_val_pred)\n",
    "\n",
    "# 모델 결과 확인\n",
    "unique, counts = np.unique(lof_val_pred, return_counts=True)\n",
    "lof_contamination = counts[1] / counts[0]\n",
    "print(f'클래스 : {unique}, 클래스별 개수 : {counts}')\n",
    "print(f'정상 데이터 : {counts[0]}, 사기 데이터 : {counts[1]}')\n",
    "print(f'검증 데이터의 사기 비율 : [{lof_contamination}]')\n",
    "\n",
    "# 모델 성능 확인\n",
    "print(classification_report(y_val, lof_val_pred))"
   ]
  },
  {
   "cell_type": "code",
   "execution_count": 82,
   "metadata": {},
   "outputs": [],
   "source": [
    "# test 데이터로 label 만들기\n",
    "lof_test_pred = lof.fit_predict(X_test)\n",
    "lof_test_pred = get_pred_label(lof_test_pred)"
   ]
  },
  {
   "cell_type": "code",
   "execution_count": 83,
   "metadata": {},
   "outputs": [],
   "source": [
    "# submit csv 만드는 코드\n",
    "submit_lof = pd.read_csv('sample_submission.csv')\n",
    "submit_lof['Class'] = lof_test_pred\n",
    "submit_lof.to_csv('submit_lof.csv', index=False)"
   ]
  }
 ],
 "metadata": {
  "kernelspec": {
   "display_name": "Python 3.8.13 ('card')",
   "language": "python",
   "name": "python3"
  },
  "language_info": {
   "codemirror_mode": {
    "name": "ipython",
    "version": 3
   },
   "file_extension": ".py",
   "mimetype": "text/x-python",
   "name": "python",
   "nbconvert_exporter": "python",
   "pygments_lexer": "ipython3",
   "version": "3.8.13"
  },
  "orig_nbformat": 4,
  "vscode": {
   "interpreter": {
    "hash": "1c59e532d1bbcab7c6eefeb3485da3a74dc6f72a6eaf7391a5ff5902d0b64eb0"
   }
  }
 },
 "nbformat": 4,
 "nbformat_minor": 2
}
